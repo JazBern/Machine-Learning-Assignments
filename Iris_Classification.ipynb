{
  "nbformat": 4,
  "nbformat_minor": 0,
  "metadata": {
    "colab": {
      "name": "Lab2Assignment.ipynb",
      "provenance": []
    },
    "kernelspec": {
      "name": "python3",
      "display_name": "Python 3"
    },
    "language_info": {
      "name": "python"
    }
  },
  "cells": [
    {
      "cell_type": "code",
      "metadata": {
        "id": "0z88JVm6tNQj"
      },
      "source": [
        "#Importing Libraries\n",
        "import sklearn\n",
        "import pandas as pd\n",
        "import numpy as np\n",
        "import seaborn as sns\n",
        "from sklearn import datasets\n",
        "import matplotlib.pyplot as plt\n",
        "from sklearn.metrics import precision_score\n",
        "from sklearn.metrics import confusion_matrix\n",
        "from sklearn.linear_model import LogisticRegression\n",
        "from sklearn.model_selection import cross_val_score\n",
        "from sklearn.model_selection import cross_val_predict\n",
        "from sklearn.model_selection import train_test_split\n",
        "from sklearn.model_selection import StratifiedShuffleSplit"
      ],
      "execution_count": 135,
      "outputs": []
    },
    {
      "cell_type": "code",
      "metadata": {
        "colab": {
          "base_uri": "https://localhost:8080/",
          "height": 204
        },
        "id": "UQu4CUTOvIXv",
        "outputId": "802adc50-1f5a-489d-c317-6a47409985f1"
      },
      "source": [
        "# Loading the dataset\n",
        "iris_data = datasets.load_iris()\n",
        "df = pd.DataFrame(iris_data.data, columns=iris_data.feature_names)\n",
        "df.head()\n",
        "\n",
        "# Adding the Class column\n",
        "df['Class'] = iris_data.target\n",
        "\n",
        "# Merging 'Setosa' and 'Versicolor' to a single class\n",
        "df.loc[df['Class'] == 1, 'Class'] = 0\n",
        "df.loc[df['Class'] == 2, 'Class'] = 1\n",
        "\n",
        "df.head()"
      ],
      "execution_count": 136,
      "outputs": [
        {
          "output_type": "execute_result",
          "data": {
            "text/html": [
              "<div>\n",
              "<style scoped>\n",
              "    .dataframe tbody tr th:only-of-type {\n",
              "        vertical-align: middle;\n",
              "    }\n",
              "\n",
              "    .dataframe tbody tr th {\n",
              "        vertical-align: top;\n",
              "    }\n",
              "\n",
              "    .dataframe thead th {\n",
              "        text-align: right;\n",
              "    }\n",
              "</style>\n",
              "<table border=\"1\" class=\"dataframe\">\n",
              "  <thead>\n",
              "    <tr style=\"text-align: right;\">\n",
              "      <th></th>\n",
              "      <th>sepal length (cm)</th>\n",
              "      <th>sepal width (cm)</th>\n",
              "      <th>petal length (cm)</th>\n",
              "      <th>petal width (cm)</th>\n",
              "      <th>Class</th>\n",
              "    </tr>\n",
              "  </thead>\n",
              "  <tbody>\n",
              "    <tr>\n",
              "      <th>0</th>\n",
              "      <td>5.1</td>\n",
              "      <td>3.5</td>\n",
              "      <td>1.4</td>\n",
              "      <td>0.2</td>\n",
              "      <td>0</td>\n",
              "    </tr>\n",
              "    <tr>\n",
              "      <th>1</th>\n",
              "      <td>4.9</td>\n",
              "      <td>3.0</td>\n",
              "      <td>1.4</td>\n",
              "      <td>0.2</td>\n",
              "      <td>0</td>\n",
              "    </tr>\n",
              "    <tr>\n",
              "      <th>2</th>\n",
              "      <td>4.7</td>\n",
              "      <td>3.2</td>\n",
              "      <td>1.3</td>\n",
              "      <td>0.2</td>\n",
              "      <td>0</td>\n",
              "    </tr>\n",
              "    <tr>\n",
              "      <th>3</th>\n",
              "      <td>4.6</td>\n",
              "      <td>3.1</td>\n",
              "      <td>1.5</td>\n",
              "      <td>0.2</td>\n",
              "      <td>0</td>\n",
              "    </tr>\n",
              "    <tr>\n",
              "      <th>4</th>\n",
              "      <td>5.0</td>\n",
              "      <td>3.6</td>\n",
              "      <td>1.4</td>\n",
              "      <td>0.2</td>\n",
              "      <td>0</td>\n",
              "    </tr>\n",
              "  </tbody>\n",
              "</table>\n",
              "</div>"
            ],
            "text/plain": [
              "   sepal length (cm)  sepal width (cm)  ...  petal width (cm)  Class\n",
              "0                5.1               3.5  ...               0.2      0\n",
              "1                4.9               3.0  ...               0.2      0\n",
              "2                4.7               3.2  ...               0.2      0\n",
              "3                4.6               3.1  ...               0.2      0\n",
              "4                5.0               3.6  ...               0.2      0\n",
              "\n",
              "[5 rows x 5 columns]"
            ]
          },
          "metadata": {},
          "execution_count": 136
        }
      ]
    },
    {
      "cell_type": "markdown",
      "metadata": {
        "id": "WhVCzVAWrv35"
      },
      "source": [
        "Construct a training set and a testing set using an 80 − 20 split\n",
        "using random sampling"
      ]
    },
    {
      "cell_type": "code",
      "metadata": {
        "id": "mRfs-DH19VkH"
      },
      "source": [
        "# Splitting the data using 80-20 to train and test sets using random sampling!\n",
        "\n",
        "df_train,df_test = sklearn.model_selection.train_test_split(df, test_size=0.2, train_size=0.8, random_state=None, shuffle=True, stratify=None)\n"
      ],
      "execution_count": 143,
      "outputs": []
    },
    {
      "cell_type": "markdown",
      "metadata": {
        "id": "-tpYJx_-rsQJ"
      },
      "source": [
        "Use Logistic Regression as a “black-box” classifier and asses the\n",
        "performance\n"
      ]
    },
    {
      "cell_type": "code",
      "metadata": {
        "colab": {
          "base_uri": "https://localhost:8080/"
        },
        "id": "-XtJf2i4-hPk",
        "outputId": "018e5bd6-faa7-4c6a-816a-33ea6b108bde"
      },
      "source": [
        "# Creating a Logistic Regression model\n",
        "\n",
        "model = LogisticRegression(random_state=0,max_iter = 5000)\n",
        "model.fit(df_train.iloc[:,:4],df_train.iloc[:,4].values.ravel())"
      ],
      "execution_count": 144,
      "outputs": [
        {
          "output_type": "execute_result",
          "data": {
            "text/plain": [
              "LogisticRegression(C=1.0, class_weight=None, dual=False, fit_intercept=True,\n",
              "                   intercept_scaling=1, l1_ratio=None, max_iter=5000,\n",
              "                   multi_class='auto', n_jobs=None, penalty='l2',\n",
              "                   random_state=0, solver='lbfgs', tol=0.0001, verbose=0,\n",
              "                   warm_start=False)"
            ]
          },
          "metadata": {},
          "execution_count": 144
        }
      ]
    },
    {
      "cell_type": "code",
      "metadata": {
        "colab": {
          "base_uri": "https://localhost:8080/"
        },
        "id": "fwYfSP7nHERx",
        "outputId": "fe092a09-e82b-41ab-9e3a-4d3f0359ca96"
      },
      "source": [
        "# Analysing the performance of the model using different evaluation metrics\n",
        "\n",
        "Predicted = model.predict_proba(df_test[['sepal length (cm)','sepal width (cm)','petal length (cm)','petal width (cm)']])\n",
        "pred_labels = np.argmax(Predicted, axis=1)\n",
        "desired_labels  = df_test['Class'].to_numpy()\n",
        "\n",
        "# Finding accuracy and loss of the model\n",
        "model_accuracy = sklearn.metrics.accuracy_score(desired_labels, pred_labels, normalize=True)\n",
        "precision_pos = sklearn.metrics.precision_score(desired_labels, pred_labels,labels=None, pos_label=1, average='binary', sample_weight=None)\n",
        "precision_neg = sklearn.metrics.precision_score(desired_labels, pred_labels,labels=None, pos_label=0, average='binary', sample_weight=None)\n",
        "recall_pos = sklearn.metrics.recall_score(desired_labels, pred_labels,labels=None, pos_label=1, average='binary', sample_weight=None, zero_division='warn')\n",
        "recall_neg = sklearn.metrics.recall_score(desired_labels, pred_labels,labels=None, pos_label=0, average='binary', sample_weight=None, zero_division='warn')\n",
        "Log_Loss = sklearn.metrics.log_loss(desired_labels, Predicted,normalize= False)\n",
        "con_matrix = confusion_matrix(desired_labels,pred_labels)\n",
        "\n",
        "# Results\n",
        "print('Desired Labels: ', desired_labels)\n",
        "print('Predicted Labels: ', pred_labels)\n",
        "print('Model Accuracy: ', model_accuracy)\n",
        "print('Precision_Pos:', precision_pos)\n",
        "print('Precision_Neg: ',precision_neg)\n",
        "print('Recall_Pos:', recall_pos)\n",
        "print('Recall_Neg: ',recall_neg)\n",
        "print('Log Loss: ', Log_Loss)\n",
        "print('Confusion Matrix: \\n',con_matrix)\n"
      ],
      "execution_count": 160,
      "outputs": [
        {
          "output_type": "stream",
          "name": "stdout",
          "text": [
            "Desired Labels:  [0 0 1 0 1 0 0 0 0 0 0 0 0 1 0 0 1 0 0 0 0 0 0 0 1 0 0 0 0 0]\n",
            "Predicted Labels:  [0 0 1 0 1 0 1 0 0 0 0 0 0 1 0 0 1 0 0 0 0 0 0 0 1 0 0 0 0 1]\n",
            "Model Accuracy:  0.9333333333333333\n",
            "Precision_Pos: 0.7142857142857143\n",
            "Precision_Neg:  1.0\n",
            "Recall_Pos: 1.0\n",
            "Recall_Neg:  0.92\n",
            "Log Loss:  3.746629809813724\n",
            "Confusion Matrix: \n",
            " [[23  2]\n",
            " [ 0  5]]\n"
          ]
        }
      ]
    },
    {
      "cell_type": "code",
      "metadata": {
        "colab": {
          "base_uri": "https://localhost:8080/"
        },
        "id": "H6NjuJB0TooK",
        "outputId": "8b8fbea1-1183-4b87-fa4a-f019b5bc9192"
      },
      "source": [
        "# Using cross-validation\n",
        "scores = cross_val_score(model, df.iloc[:,:4],df.iloc[:,4].values.ravel(), cv=5)\n",
        "print('Accuracy: ', scores.mean())\n",
        "y_pred = cross_val_predict(model, df.iloc[:,:4],df.iloc[:,4].values.ravel(), cv=5)\n",
        "print('Confusion Matrix: ')\n",
        "confusion_matrix(df.iloc[:,4],y_pred)"
      ],
      "execution_count": 149,
      "outputs": [
        {
          "output_type": "stream",
          "name": "stdout",
          "text": [
            "Accuracy:  0.9666666666666666\n",
            "Confusion Matrix: \n"
          ]
        },
        {
          "output_type": "execute_result",
          "data": {
            "text/plain": [
              "array([[96,  4],\n",
              "       [ 1, 49]])"
            ]
          },
          "metadata": {},
          "execution_count": 149
        }
      ]
    },
    {
      "cell_type": "markdown",
      "metadata": {
        "id": "D-284eUTr2Js"
      },
      "source": [
        "Implement stratified sampling, again using 80% of the data for\n",
        "training and 20% of the data for testing. Decide the stratification\n",
        "variable and explain your choice"
      ]
    },
    {
      "cell_type": "code",
      "metadata": {
        "colab": {
          "base_uri": "https://localhost:8080/",
          "height": 1000
        },
        "id": "wVG4lkF5e_Zf",
        "outputId": "24d05c8d-c147-4c79-9832-c0f6b39ee9a2"
      },
      "source": [
        "# Analysing the histograms of four features\n",
        "\n",
        "df.hist(bins=50, figsize=(20,20))\n",
        "plt.show()"
      ],
      "execution_count": 150,
      "outputs": [
        {
          "output_type": "display_data",
          "data": {
            "image/png": "[encoded data removed]",
            "text/plain": [
              "<Figure size 1440x1440 with 6 Axes>"
            ]
          },
          "metadata": {
            "needs_background": "light"
          }
        }
      ]
    },
    {
      "cell_type": "code",
      "metadata": {
        "colab": {
          "base_uri": "https://localhost:8080/",
          "height": 613
        },
        "id": "ejkNsjh6ft0r",
        "outputId": "eb1e881f-4233-46dc-a836-fecdceaa3b6a"
      },
      "source": [
        "# Finding the feature that is most correlated with the target class\n",
        "\n",
        "correlation = df.corr()\n",
        "plt.figure(figsize =(10,10))\n",
        "sns.heatmap(correlation, annot = True)"
      ],
      "execution_count": 151,
      "outputs": [
        {
          "output_type": "execute_result",
          "data": {
            "text/plain": [
              "<matplotlib.axes._subplots.AxesSubplot at 0x7f752bb5b2d0>"
            ]
          },
          "metadata": {},
          "execution_count": 151
        },
        {
          "output_type": "display_data",
          "data": {
            "image/png": "[encoded data removed]",
            "text/plain": [
              "<Figure size 720x720 with 2 Axes>"
            ]
          },
          "metadata": {
            "needs_background": "light"
          }
        }
      ]
    },
    {
      "cell_type": "markdown",
      "metadata": {
        "id": "ONRhErkmr_6u"
      },
      "source": [
        "\n",
        "Petal Width is the feature that is most correlated with the target and hence it was categorized and used for stratified sampling. "
      ]
    },
    {
      "cell_type": "code",
      "metadata": {
        "colab": {
          "base_uri": "https://localhost:8080/"
        },
        "id": "Gd5ibTYDgnnK",
        "outputId": "3bf99f78-16f6-41d3-db77-3cfa83fd184b"
      },
      "source": [
        "################################## Using single Train, Test pair ###############################################\n",
        "\n",
        "\n",
        "\n",
        "# Creating a category feature out of 'petal width (cm)', which is the feature most correlated to target class\n",
        "df['PetalWidth_Category'] = pd.cut(df['petal width (cm)'], bins=[0.0, 0.5, 1.0, 1.5, 2.0, 2.5], labels = [1,2,3,4,5])\n",
        "\n",
        "# Using Stratified Sampling to split data into a single Train, Test pair\n",
        "sss = StratifiedShuffleSplit(n_splits=1, test_size=0.2, random_state=0)\n",
        "for tr,tst in sss.split(df.iloc[:,:4],df.iloc[:,5:]):\n",
        "  df_train_ss = df.iloc[tr]\n",
        "  df_test_ss = df.iloc[tst]\n",
        "\n",
        "# Creating the model\n",
        "model_ss = LogisticRegression(random_state=0,max_iter = 5000)\n",
        "model_ss.fit(df_train_ss.iloc[:,:4],df_train_ss.iloc[:,4].values.ravel())\n",
        "\n",
        "# Calculating evaluation metrics\n",
        "Predicted3 = model_ss.predict_proba(df_test_ss.iloc[:,:4])\n",
        "pred_labels = np.argmax(Predicted3, axis=1)\n",
        "desired_labels  = df_test_ss['Class'].to_numpy()\n",
        "model_accuracy = sklearn.metrics.accuracy_score(desired_labels, pred_labels, normalize=True)\n",
        "precision_pos = sklearn.metrics.precision_score(desired_labels, pred_labels,labels=None, pos_label=1, average='binary', sample_weight=None)\n",
        "precision_neg = sklearn.metrics.precision_score(desired_labels, pred_labels,labels=None, pos_label=0, average='binary', sample_weight=None)\n",
        "recall_pos = sklearn.metrics.recall_score(desired_labels, pred_labels,labels=None, pos_label=1, average='binary', sample_weight=None, zero_division='warn')\n",
        "recall_neg = sklearn.metrics.recall_score(desired_labels, pred_labels,labels=None, pos_label=0, average='binary', sample_weight=None, zero_division='warn')\n",
        "\n",
        "# Calculating loss\n",
        "Log_Loss = sklearn.metrics.log_loss(desired_labels, Predicted3,normalize= False, sample_weight=None, labels=None)\n",
        "\n",
        "# Calculating confusion Matrix\n",
        "con_matrix = confusion_matrix(desired_labels,pred_labels)\n",
        "print('Model Accuracy: ', model_accuracy)\n",
        "print('Precision_Pos:', precision_pos)\n",
        "print('Precision_Neg: ',precision_neg)\n",
        "print('Recall_Pos:', recall_pos)\n",
        "print('Recall_Neg: ',recall_neg)\n",
        "print('Log Loss: ', Log_Loss)\n",
        "print('Confusion Matrix: \\n',con_matrix)"
      ],
      "execution_count": 161,
      "outputs": [
        {
          "output_type": "stream",
          "name": "stdout",
          "text": [
            "Model Accuracy:  0.9666666666666667\n",
            "Precision_Pos: 0.9166666666666666\n",
            "Precision_Neg:  1.0\n",
            "Recall_Pos: 1.0\n",
            "Recall_Neg:  0.9473684210526315\n",
            "Log Loss:  3.3822462317186326\n",
            "Confusion Matrix: \n",
            " [[18  1]\n",
            " [ 0 11]]\n"
          ]
        }
      ]
    },
    {
      "cell_type": "code",
      "metadata": {
        "colab": {
          "base_uri": "https://localhost:8080/"
        },
        "id": "gXZAvUiXvAvu",
        "outputId": "921f525b-590a-4b32-dd98-ac9aa345644c"
      },
      "source": [
        "\n",
        "################################## Using 5 Train, Test pairs ###############################################\n",
        "\n",
        "\n",
        "data = df.copy()\n",
        "\n",
        "# Creating a category feature out of 'petal width (cm)', which is the feature most correlated to target class\n",
        "data['PetalWidth_Category'] = pd.cut(data['petal width (cm)'], bins=[0.0, 0.5, 1.0, 1.5, 2.0, 2.5], labels = [1,2,3,4,5])\n",
        "\n",
        "# Performing stratified sampling based on category feature to split into 5 train and test sets\n",
        "sss_1 = StratifiedShuffleSplit(n_splits=5, test_size=0.2, random_state=0)\n",
        "Total_Model_Accuracy = 0\n",
        "Total_Log_Loss = 0\n",
        "for tr,tst in sss_1.split(data.iloc[:,:5],data.iloc[:,5:]):\n",
        "  df_train_ss1 = data.iloc[tr]\n",
        "  df_test_ss1 = data.iloc[tst]\n",
        "  \n",
        "  model_2 = LogisticRegression(random_state=0,max_iter = 5000)\n",
        "  model_2.fit(df_train_ss1[['sepal length (cm)','sepal width (cm)','petal length (cm)','petal width (cm)']],df_train_ss1['Class'].values.ravel())\n",
        "  Predicted_2 = model_2.predict_proba(df_test_ss1[['sepal length (cm)','sepal width (cm)','petal length (cm)','petal width (cm)']])\n",
        "\n",
        "  # Predicted and Desired labels\n",
        "  pred_labels = np.argmax(Predicted_2, axis=1)\n",
        "  desired_labels  = df_test_ss1['Class'].to_numpy()\n",
        "\n",
        "  # Calculating Accuracy and Loss\n",
        "  model_accuracy = sklearn.metrics.accuracy_score(desired_labels, pred_labels, normalize=True, sample_weight=None)\n",
        "  Log_Loss = sklearn.metrics.log_loss(desired_labels, Predicted_2,normalize= False, sample_weight=None, labels=None)\n",
        "  Total_Model_Accuracy += model_accuracy\n",
        "  Total_Log_Loss += Log_Loss\n",
        "\n",
        "  #print(model_accuracy)\n",
        "  #print(pred_labels)\n",
        "  #print(desired_labels)\n",
        "  #print(Log_Loss)\n",
        "\n",
        "print('Average Model Accuracy: ', Total_Model_Accuracy/5)\n",
        "print('Average Loss: ', Total_Log_Loss/5)"
      ],
      "execution_count": 153,
      "outputs": [
        {
          "output_type": "stream",
          "name": "stdout",
          "text": [
            "Average Model Accuracy:  0.9666666666666666\n",
            "Average Loss:  3.546968274671881\n"
          ]
        }
      ]
    }
  ]
}